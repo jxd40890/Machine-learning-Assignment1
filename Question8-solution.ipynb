{
 "cells": [
  {
   "cell_type": "code",
   "execution_count": 2,
   "id": "435fd220",
   "metadata": {},
   "outputs": [
    {
     "name": "stdout",
     "output_type": "stream",
     "text": [
      "The area of circle with radius 10 is 314 meters square.\n"
     ]
    }
   ],
   "source": [
    "'''\n",
    "Use the string formatting method to display the following:\n",
    "radius = 10\n",
    "area = 3.14 * radius ** 2\n",
    "“The area of a circle with radius 10 is 314 meters square.”\n",
    "\n",
    "'''\n",
    "\n",
    "radius=10\n",
    "area = 3.14 * radius ** 2\n",
    "print(f\"The area of circle with radius {radius} is {int(area)} meters square.\")"
   ]
  },
  {
   "cell_type": "code",
   "execution_count": null,
   "id": "db89abf1",
   "metadata": {},
   "outputs": [],
   "source": []
  },
  {
   "cell_type": "code",
   "execution_count": null,
   "id": "ffd0b101",
   "metadata": {},
   "outputs": [],
   "source": []
  }
 ],
 "metadata": {
  "kernelspec": {
   "display_name": "Python 3 (ipykernel)",
   "language": "python",
   "name": "python3"
  },
  "language_info": {
   "codemirror_mode": {
    "name": "ipython",
    "version": 3
   },
   "file_extension": ".py",
   "mimetype": "text/x-python",
   "name": "python",
   "nbconvert_exporter": "python",
   "pygments_lexer": "ipython3",
   "version": "3.9.7"
  }
 },
 "nbformat": 4,
 "nbformat_minor": 5
}

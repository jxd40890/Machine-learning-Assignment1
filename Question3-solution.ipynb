{
 "cells": [
  {
   "cell_type": "code",
   "execution_count": 1,
   "id": "d8b8285f",
   "metadata": {},
   "outputs": [
    {
     "name": "stdout",
     "output_type": "stream",
     "text": [
      "('Lavanya', 'Swathi', 'Varsha', 'Tharun', 'vijay', 'pranav')\n"
     ]
    }
   ],
   "source": [
    "#create a tuple sisters\n",
    "\n",
    "sisters = (\"Lavanya\", \"Swathi\", \"Varsha\")\n",
    "brothers=(\"Tharun\",\"vijay\",\"pranav\")\n",
    "\n",
    "#Join brothers and sisters tuples and assign it to siblings\n",
    "\n",
    "siblings=sisters+brothers\n",
    "print(siblings)"
   ]
  },
  {
   "cell_type": "code",
   "execution_count": 4,
   "id": "4bc2a699",
   "metadata": {},
   "outputs": [
    {
     "data": {
      "text/plain": [
       "6"
      ]
     },
     "execution_count": 4,
     "metadata": {},
     "output_type": "execute_result"
    }
   ],
   "source": [
    "#Find the number of siblings\n",
    "len(siblings)"
   ]
  },
  {
   "cell_type": "code",
   "execution_count": 6,
   "id": "cee41c1f",
   "metadata": {},
   "outputs": [
    {
     "name": "stdout",
     "output_type": "stream",
     "text": [
      "('Lavanya', 'Swathi', 'Varsha', 'Tharun', 'vijay', 'pranav', 'Anitha', 'Sankar')\n"
     ]
    }
   ],
   "source": [
    "#Modify the siblings tuple and add the name of your father and mother and assign it to family_members\n",
    "\n",
    "family_members=siblings+('Anitha','Sankar',)\n",
    "print(family_members)"
   ]
  },
  {
   "cell_type": "code",
   "execution_count": null,
   "id": "f7e8e29e",
   "metadata": {},
   "outputs": [],
   "source": []
  },
  {
   "cell_type": "code",
   "execution_count": null,
   "id": "6e7e682a",
   "metadata": {},
   "outputs": [],
   "source": []
  },
  {
   "cell_type": "code",
   "execution_count": null,
   "id": "7d2c6feb",
   "metadata": {},
   "outputs": [],
   "source": []
  }
 ],
 "metadata": {
  "kernelspec": {
   "display_name": "Python 3 (ipykernel)",
   "language": "python",
   "name": "python3"
  },
  "language_info": {
   "codemirror_mode": {
    "name": "ipython",
    "version": 3
   },
   "file_extension": ".py",
   "mimetype": "text/x-python",
   "name": "python",
   "nbconvert_exporter": "python",
   "pygments_lexer": "ipython3",
   "version": "3.9.7"
  }
 },
 "nbformat": 4,
 "nbformat_minor": 5
}

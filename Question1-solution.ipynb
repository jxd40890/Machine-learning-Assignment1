{
 "cells": [
  {
   "cell_type": "code",
   "execution_count": 23,
   "id": "a60b63d9",
   "metadata": {},
   "outputs": [
    {
     "name": "stdout",
     "output_type": "stream",
     "text": [
      "Minimum age is: 19\n",
      "Maximum age is: 26\n",
      "list after apending min and max values : [19, 19, 20, 22, 24, 24, 24, 25, 25, 26, 19, 26]\n",
      "Median is: 24\n",
      "Average is: 22.75\n",
      "range is:7\n"
     ]
    }
   ],
   "source": [
    "ages = [19, 22, 19, 24, 20, 25, 26, 24, 25, 24]\n",
    "#sorting the list\n",
    "ages.sort()\n",
    "#Finding the minimum age\n",
    "minimum_age = min(ages)\n",
    "print(\"Minimum age is: \" + str(minimum_age))\n",
    "#Finding the maximum age\n",
    "maximum_age=max(ages)\n",
    "print(\"Maximum age is: \" + str(maximum_age))\n",
    "#Add min age and max age again to the list\n",
    "ages.append(minimum_age)\n",
    "ages.append(maximum_age)\n",
    "print(\"list after apending min and max values : \"+ str(ages))\n",
    "#Find median\n",
    "ages.sort()\n",
    "mid = len(ages) // 2\n",
    "if mid == 0:\n",
    "    median1=ages[mid]\n",
    "    median2=ages[mid-1]\n",
    "    median=(median1+median2)/2\n",
    "    \n",
    "else:\n",
    "    median=ages[mid]\n",
    "print(\"Median is: \" + str(median))\n",
    "#find average of ages list\n",
    "\n",
    "sum_of_ages = sum(ages)\n",
    "len_of_ages = len(ages)\n",
    "mean = sum(ages) / len(ages)\n",
    "print(\"Average is: \" + str(mean))\n",
    "\n",
    "#find range of ages\n",
    "\n",
    "age_range= maximum_age-minimum_age\n",
    "print(\"range is:\"+str(age_range))\n"
   ]
  },
  {
   "cell_type": "code",
   "execution_count": null,
   "id": "5ca019c9",
   "metadata": {},
   "outputs": [],
   "source": []
  },
  {
   "cell_type": "code",
   "execution_count": null,
   "id": "5517957d",
   "metadata": {},
   "outputs": [],
   "source": []
  }
 ],
 "metadata": {
  "kernelspec": {
   "display_name": "Python 3 (ipykernel)",
   "language": "python",
   "name": "python3"
  },
  "language_info": {
   "codemirror_mode": {
    "name": "ipython",
    "version": 3
   },
   "file_extension": ".py",
   "mimetype": "text/x-python",
   "name": "python",
   "nbconvert_exporter": "python",
   "pygments_lexer": "ipython3",
   "version": "3.9.7"
  }
 },
 "nbformat": 4,
 "nbformat_minor": 5
}

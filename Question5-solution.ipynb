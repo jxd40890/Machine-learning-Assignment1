{
 "cells": [
  {
   "cell_type": "code",
   "execution_count": 3,
   "id": "3700c332",
   "metadata": {},
   "outputs": [
    {
     "name": "stdout",
     "output_type": "stream",
     "text": [
      "2826.0\n"
     ]
    }
   ],
   "source": [
    "#Calculate the area of a circle and assign the value to a variable name of _area_of_circle_\n",
    "\n",
    "r=30\n",
    "_area_of_circle_= 3.14 * r * r\n",
    "print(_area_of_circle_)"
   ]
  },
  {
   "cell_type": "code",
   "execution_count": 4,
   "id": "3e52a2f3",
   "metadata": {},
   "outputs": [
    {
     "name": "stdout",
     "output_type": "stream",
     "text": [
      "188.4\n"
     ]
    }
   ],
   "source": [
    "#Calculate circumference of a circle and assign the value to a variable name of _circum_of_circle_\n",
    "_circum_of_circle_= 2*3.14*r\n",
    "print(_circum_of_circle_)"
   ]
  },
  {
   "cell_type": "code",
   "execution_count": 6,
   "id": "46c610b3",
   "metadata": {},
   "outputs": [
    {
     "name": "stdout",
     "output_type": "stream",
     "text": [
      "Please input radius: 4\n",
      "Area of circle:  50.24\n"
     ]
    }
   ],
   "source": [
    "#Take radius as user input and calculate the area.\n",
    "r = int(input(\"Please input radius: \"))\n",
    "_area_of_circle_ = 3.14 * r * r\n",
    "print(\"Area of circle: \", _area_of_circle_)"
   ]
  },
  {
   "cell_type": "code",
   "execution_count": null,
   "id": "5b4e9ceb",
   "metadata": {},
   "outputs": [],
   "source": []
  },
  {
   "cell_type": "code",
   "execution_count": null,
   "id": "37d8236c",
   "metadata": {},
   "outputs": [],
   "source": []
  },
  {
   "cell_type": "code",
   "execution_count": null,
   "id": "836cb3b4",
   "metadata": {},
   "outputs": [],
   "source": []
  },
  {
   "cell_type": "code",
   "execution_count": null,
   "id": "79a7c0c9",
   "metadata": {},
   "outputs": [],
   "source": []
  }
 ],
 "metadata": {
  "kernelspec": {
   "display_name": "Python 3 (ipykernel)",
   "language": "python",
   "name": "python3"
  },
  "language_info": {
   "codemirror_mode": {
    "name": "ipython",
    "version": 3
   },
   "file_extension": ".py",
   "mimetype": "text/x-python",
   "name": "python",
   "nbconvert_exporter": "python",
   "pygments_lexer": "ipython3",
   "version": "3.9.7"
  }
 },
 "nbformat": 4,
 "nbformat_minor": 5
}

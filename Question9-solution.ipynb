{
 "cells": [
  {
   "cell_type": "code",
   "execution_count": 25,
   "id": "55b1f5a8",
   "metadata": {},
   "outputs": [
    {
     "name": "stdout",
     "output_type": "stream",
     "text": [
      "Please input number of students4\n",
      "please input weights:150\n",
      "please input weights:155\n",
      "please input weights:145\n",
      "please input weights:148\n",
      "[150, 155, 145, 148]\n"
     ]
    }
   ],
   "source": [
    "'''\n",
    "Write a program, which reads weights (lbs.) of N students into a list and convert these weights to\n",
    "kilograms in a separate list using Loop. N: No of students (Read input from user)\n",
    "'''\n",
    "\n",
    "Num_of_students = int(input(\"Please input number of students\"))\n",
    "weights_in_lbs = []\n",
    "for w in range(Num_of_students):\n",
    "    lbs = input(\"please input weights:\")\n",
    "    weights_in_lbs.append(int(lbs))\n",
    "print(weights_in_lbs)\n",
    "    "
   ]
  },
  {
   "cell_type": "code",
   "execution_count": 24,
   "id": "4c256f9b",
   "metadata": {},
   "outputs": [
    {
     "name": "stdout",
     "output_type": "stream",
     "text": [
      "[68.03, 70.29, 65.76, 67.12]\n"
     ]
    }
   ],
   "source": [
    "weights_in_kgs=[]\n",
    "for i in weights_in_lbs:\n",
    "    weights_in_kgs.append(round(float(i * 0.4535),2))\n",
    "print(weights_in_kgs)"
   ]
  },
  {
   "cell_type": "code",
   "execution_count": null,
   "id": "d3970dbd",
   "metadata": {},
   "outputs": [],
   "source": []
  },
  {
   "cell_type": "code",
   "execution_count": null,
   "id": "684b3edc",
   "metadata": {},
   "outputs": [],
   "source": []
  }
 ],
 "metadata": {
  "kernelspec": {
   "display_name": "Python 3 (ipykernel)",
   "language": "python",
   "name": "python3"
  },
  "language_info": {
   "codemirror_mode": {
    "name": "ipython",
    "version": 3
   },
   "file_extension": ".py",
   "mimetype": "text/x-python",
   "name": "python",
   "nbconvert_exporter": "python",
   "pygments_lexer": "ipython3",
   "version": "3.9.7"
  }
 },
 "nbformat": 4,
 "nbformat_minor": 5
}

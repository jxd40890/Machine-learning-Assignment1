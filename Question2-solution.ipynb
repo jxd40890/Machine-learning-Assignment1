{
 "cells": [
  {
   "cell_type": "code",
   "execution_count": 1,
   "id": "a6291861",
   "metadata": {},
   "outputs": [
    {
     "name": "stdout",
     "output_type": "stream",
     "text": [
      "{'name': 'browny', 'color': 'brown', 'breed': 'Doberman', 'legs': 2, 'age': 8}\n"
     ]
    }
   ],
   "source": [
    "# Create an empty dictionary called dog\n",
    "dog={}\n",
    "#Add name, color, breed, legs, age to the dog dictionary\n",
    "dog= {\n",
    "  \"name\": \"browny\",\n",
    "  \"color\": \"brown\",\n",
    "  \"breed\": \"Doberman\",\n",
    "  \"legs\": 2,\n",
    "  \"age\":  8\n",
    "}\n",
    "print(dog)"
   ]
  },
  {
   "cell_type": "code",
   "execution_count": 28,
   "id": "27c74a3e",
   "metadata": {},
   "outputs": [
    {
     "name": "stdout",
     "output_type": "stream",
     "text": [
      "9\n",
      "['Java', 'c']\n",
      "<class 'list'>\n",
      "['java', 'c', 'python', 'Angular']\n",
      "keysList:['first_name', 'last_name', 'gender', 'age', 'marital status', 'skills', 'country', 'city', 'address']\n",
      "valueList:['Jahnavi', 'Danda', 'F', 24, 's', ['java', 'c', 'python', 'Angular'], 'US', 'OP', '137th street']\n"
     ]
    }
   ],
   "source": [
    "\"\"\"\n",
    "Create a student dictionary and add first_name, last_name, gender, age, marital status,\n",
    "skills, country, city and address as keys for the dictionary\n",
    "\n",
    "\"\"\"\n",
    "student= {\n",
    "  \"first_name\": \"Jahnavi\",\n",
    "  \"last_name\": \"Danda\",\n",
    "  \"gender\": \"F\",\n",
    "  \"age\": 24,\n",
    "  \"marital status\": 's',\n",
    "  \"skills\": [\"Java\",\"c\"],\n",
    "  \"country\": \"US\",\n",
    "  \"city\": \"OP\",\n",
    "  \"address\": \"137th street\"\n",
    "}\n",
    "\n",
    "\n",
    "#Get the length of the student dictionary\n",
    "print(len(student))\n",
    "\n",
    "#Get the value of skills and check the data type, it should be a list\n",
    "print(student[\"skills\"])\n",
    "\n",
    "print(type(student[\"skills\"]))\n",
    "\n",
    "#Modify the skills values by adding one or two skills\n",
    "\n",
    "student.update({\"skills\":[\"java\",\"c\",\"python\",\"Angular\"]})\n",
    "print(student[\"skills\"])\n",
    "#Get the dictionary keys as a list\n",
    "keysList = list(student.keys())\n",
    "print(\"keysList:\"+str(keysList))\n",
    "#Get the dictionary values as a list\n",
    "valuesList = list(student.values())\n",
    "print(\"valueList:\"+str(valuesList))"
   ]
  },
  {
   "cell_type": "code",
   "execution_count": null,
   "id": "6c46a5ca",
   "metadata": {},
   "outputs": [],
   "source": []
  },
  {
   "cell_type": "code",
   "execution_count": null,
   "id": "4127b1a2",
   "metadata": {},
   "outputs": [],
   "source": []
  }
 ],
 "metadata": {
  "kernelspec": {
   "display_name": "Python 3 (ipykernel)",
   "language": "python",
   "name": "python3"
  },
  "language_info": {
   "codemirror_mode": {
    "name": "ipython",
    "version": 3
   },
   "file_extension": ".py",
   "mimetype": "text/x-python",
   "name": "python",
   "nbconvert_exporter": "python",
   "pygments_lexer": "ipython3",
   "version": "3.9.7"
  }
 },
 "nbformat": 4,
 "nbformat_minor": 5
}
